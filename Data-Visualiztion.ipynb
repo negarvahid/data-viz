{
 "cells": [
  {
   "cell_type": "markdown",
   "metadata": {},
   "source": [
    "### Why is visulization important?"
   ]
  },
  {
   "cell_type": "markdown",
   "metadata": {},
   "source": [
    "A picture is worth a 1000 words!\n",
    "\n",
    "Looking at a chart or a map helps us make a meaningful observations of our data by just looking at them."
   ]
  },
  {
   "cell_type": "markdown",
   "metadata": {},
   "source": [
    "### What is Matplotlib?"
   ]
  },
  {
   "cell_type": "markdown",
   "metadata": {},
   "source": [
    "There are hundrads of different modules available, but Matplotlub gives us **complete control** over the properties of our graphs/charts "
   ]
  },
  {
   "cell_type": "code",
   "execution_count": null,
   "metadata": {},
   "outputs": [],
   "source": [
    "!pip3 install matplotlib"
   ]
  },
  {
   "cell_type": "markdown",
   "metadata": {},
   "source": [
    "### **pyplot**"
   ]
  },
  {
   "cell_type": "code",
   "execution_count": null,
   "metadata": {},
   "outputs": [],
   "source": [
    "import matplotlib.pyplot as plt"
   ]
  },
  {
   "cell_type": "code",
   "execution_count": null,
   "metadata": {},
   "outputs": [],
   "source": [
    "fig, ax = plt.subplots()\n",
    "plt.show()"
   ]
  },
  {
   "cell_type": "markdown",
   "metadata": {},
   "source": [
    "`figure object` = A container of everything we see on the page.\n",
    "\n",
    "`axes object` = A canvas in which we will visualize our data!"
   ]
  },
  {
   "cell_type": "markdown",
   "metadata": {},
   "source": [
    "### Austin Weather"
   ]
  },
  {
   "cell_type": "code",
   "execution_count": null,
   "metadata": {},
   "outputs": [],
   "source": [
    "import pandas as pd\n",
    "austin_weather = pd.read_csv('austin_weather.csv')\n",
    "austin_weather = austin_weather[['Date', 'TempAvgF', 'WindAvgMPH']]"
   ]
  },
  {
   "cell_type": "code",
   "execution_count": null,
   "metadata": {},
   "outputs": [],
   "source": [
    "austin_weather.head()"
   ]
  },
  {
   "cell_type": "code",
   "execution_count": null,
   "metadata": {},
   "outputs": [],
   "source": [
    "austin_weather.shape"
   ]
  },
  {
   "cell_type": "code",
   "execution_count": null,
   "metadata": {},
   "outputs": [],
   "source": [
    "austin_weather['Date'] = pd.to_datetime(austin_weather['Date'])\n",
    "summary = austin_weather.resample('Y', on='Date').sum()"
   ]
  },
  {
   "cell_type": "code",
   "execution_count": null,
   "metadata": {},
   "outputs": [],
   "source": [
    "summary.head()"
   ]
  },
  {
   "cell_type": "markdown",
   "metadata": {},
   "source": [
    "Importing required libraries and dataset to plot using Pandas `pd.read_csv()`\n",
    "\n",
    "Extracting important parts for plots using conditions on Pandas Dataframes.\n",
    "\n",
    "`plt.plot()`for plotting line chart similarly in place of plot other functions are used for plotting. All plotting functions require data and it is provided in the function through parameters.\n",
    "\n",
    "`plot.xlabel` , plt.ylabel for labeling x and y-axis respectively.\n",
    "\n",
    "`plt.legend()` for signifying the observation variables.\n",
    "\n",
    "`plt.title()` for setting the title of the plot.\n",
    "\n",
    "`plot.show()` for displaying the plot.\n"
   ]
  },
  {
   "cell_type": "markdown",
   "metadata": {},
   "source": [
    "- The first plotting command we will try, is `.plot`"
   ]
  },
  {
   "cell_type": "code",
   "execution_count": null,
   "metadata": {},
   "outputs": [],
   "source": [
    "fig, ax = plt.subplots()\n",
    "ax.plot(summary)\n",
    "plt.show()"
   ]
  },
  {
   "cell_type": "markdown",
   "metadata": {},
   "source": [
    "Well, it works! but as you can see the meaning of iur line isn't clear"
   ]
  },
  {
   "cell_type": "code",
   "execution_count": null,
   "metadata": {},
   "outputs": [],
   "source": [
    "fig, ax = plt.subplots()\n",
    "ax.plot(summary)\n",
    "plt.xlabel(\"Date\")\n",
    "plt.ylabel(\"Average Wind Temp(F) Per Hour\")\n",
    "plt.show()\n"
   ]
  },
  {
   "cell_type": "markdown",
   "metadata": {},
   "source": [
    "Again, the X Axes lables are not clear, Let's fix that."
   ]
  },
  {
   "cell_type": "code",
   "execution_count": null,
   "metadata": {},
   "outputs": [],
   "source": [
    "fig, ax = plt.subplots()\n",
    "fig.set_figwidth(12)\n",
    "fig.set_figheight(6)\n",
    "ax.plot(summary)\n",
    "plt.xlabel(\"Date\")\n",
    "plt.ylabel(\"Average Wind Miles Per Hour\")\n",
    "plt.show()"
   ]
  },
  {
   "cell_type": "markdown",
   "metadata": {},
   "source": [
    "There we go!"
   ]
  },
  {
   "cell_type": "markdown",
   "metadata": {},
   "source": [
    "Wait a minute... This is showing us two months of the same year... but our data was technically just yearly.\n",
    "Matplotlib is showing our data **continiously**, We want it to be **discrete**"
   ]
  },
  {
   "cell_type": "code",
   "execution_count": null,
   "metadata": {},
   "outputs": [],
   "source": [
    "fig, ax = plt.subplots()\n",
    "fig.set_figwidth(12)\n",
    "fig.set_figheight(6)\n",
    "ax.plot(summary, marker = \"o\")\n",
    "plt.xlabel(\"Date\")\n",
    "plt.ylabel(\"Average Wind Miles Per Hour\")\n",
    "plt.show()"
   ]
  },
  {
   "cell_type": "markdown",
   "metadata": {},
   "source": [
    "#### Choosing The Color and adding a Title Label"
   ]
  },
  {
   "cell_type": "code",
   "execution_count": null,
   "metadata": {},
   "outputs": [],
   "source": [
    "fig, ax = plt.subplots()\n",
    "fig.set_figwidth(12)\n",
    "fig.set_figheight(6)\n",
    "ax.plot(summary, marker = \"o\", color = 'r')\n",
    "ax.set_title(\"Temp VS Year 2013-2018 in Austin\")\n",
    "plt.xlabel(\"Date\")\n",
    "plt.ylabel(\"Average Wind Miles Per Hour\")\n",
    "plt.show()"
   ]
  },
  {
   "cell_type": "markdown",
   "metadata": {},
   "source": [
    "## Pokemon Dataset"
   ]
  },
  {
   "cell_type": "code",
   "execution_count": null,
   "metadata": {},
   "outputs": [],
   "source": [
    "df = pd.read_csv('pokemons.csv')\n",
    "df.head()"
   ]
  },
  {
   "cell_type": "markdown",
   "metadata": {},
   "source": [
    "### Histograms"
   ]
  },
  {
   "cell_type": "code",
   "execution_count": null,
   "metadata": {},
   "outputs": [],
   "source": [
    "def get_type(df, type_name):\n",
    "    return df[df['Type 1'] == type_name]\n",
    "\n",
    "water_df = get_type(df, 'Water')"
   ]
  },
  {
   "cell_type": "code",
   "execution_count": null,
   "metadata": {},
   "outputs": [],
   "source": [
    "# make canvas\n",
    "fig = plt.figure()\n",
    "# add subplot\n",
    "ax = fig.add_subplot(111)\n",
    "# plot histogram\n",
    "ax.hist(water_df['Total'])"
   ]
  },
  {
   "cell_type": "code",
   "execution_count": null,
   "metadata": {},
   "outputs": [],
   "source": [
    "import matplotlib.ticker as ticker\n",
    "\n",
    "fig = plt.figure()\n",
    "ax = fig.add_subplot(111)\n",
    "ax.hist(water_df['Total'], bins=20, color='deepskyblue')\n",
    "ax.set_title('Distribution of \"Total\" stat for Pokemons of \"Type 1\" Water')\n",
    "ax.set_xlabel(\"Total\", size=12)\n",
    "ax.tick_params(axis='both', which='major', labelsize=12)\n",
    "ax.yaxis.set_major_locator(ticker.MultipleLocator(5))"
   ]
  },
  {
   "cell_type": "markdown",
   "metadata": {},
   "source": [
    "More information on ticker : https://www.geeksforgeeks.org/matplotlib-ticker-multiplelocator-class-in-python/\n",
    "\n",
    "https://www.kite.com/python/docs/matplotlib.ticker\n",
    "\n",
    "https://matplotlib.org/stable/gallery/ticks_and_spines/major_minor_demo.html"
   ]
  },
  {
   "cell_type": "code",
   "execution_count": null,
   "metadata": {},
   "outputs": [],
   "source": []
  }
 ],
 "metadata": {
  "kernelspec": {
   "display_name": "Python 3",
   "language": "python",
   "name": "python3"
  },
  "language_info": {
   "codemirror_mode": {
    "name": "ipython",
    "version": 3
   },
   "file_extension": ".py",
   "mimetype": "text/x-python",
   "name": "python",
   "nbconvert_exporter": "python",
   "pygments_lexer": "ipython3",
   "version": "3.7.3"
  }
 },
 "nbformat": 4,
 "nbformat_minor": 4
}
